{
 "metadata": {
  "language_info": {
   "codemirror_mode": {
    "name": "ipython",
    "version": 3
   },
   "file_extension": ".py",
   "mimetype": "text/x-python",
   "name": "python",
   "nbconvert_exporter": "python",
   "pygments_lexer": "ipython3",
   "version": "3.8.5-final"
  },
  "orig_nbformat": 2,
  "kernelspec": {
   "name": "python3",
   "display_name": "Python 3",
   "language": "python"
  }
 },
 "nbformat": 4,
 "nbformat_minor": 2,
 "cells": [
  {
   "cell_type": "code",
   "execution_count": 49,
   "metadata": {},
   "outputs": [],
   "source": [
    "from __future__ import absolute_import\n",
    "from __future__ import division\n",
    "from __future__ import print_function\n",
    "from __future__ import unicode_literals"
   ]
  },
  {
   "cell_type": "code",
   "execution_count": 50,
   "metadata": {},
   "outputs": [],
   "source": [
    "import tensorflow as tf\n",
    "import pandas as pd"
   ]
  },
  {
   "cell_type": "code",
   "execution_count": 51,
   "metadata": {},
   "outputs": [
    {
     "output_type": "stream",
     "name": "stdout",
     "text": [
      "Using TensorFlow version 2.4.0\n"
     ]
    }
   ],
   "source": [
    "print('Using TensorFlow version %s' % (tf.__version__))"
   ]
  },
  {
   "cell_type": "code",
   "execution_count": 52,
   "metadata": {},
   "outputs": [],
   "source": [
    "train_data_path = '../data/adult.data.csv'\n",
    "test_data_path = '../data/adult.test.csv'\n",
    "\n",
    "export_dir = 'export'\n",
    "\n",
    "model_path = str('wide-deep-model.pkl')"
   ]
  },
  {
   "cell_type": "code",
   "execution_count": 53,
   "metadata": {},
   "outputs": [],
   "source": [
    "CATEGORICAL_COLUMNS = [\"workclass\", \"education\", \"marital_status\", \"occupation\", \"relationship\", \"race\", \"gender\", \"native_country\"]\n",
    "NUMERIC_COLUMNS = [\"age\", \"education_num\", \"capital_gain\", \"capital_loss\", \"hours_per_week\"]\n",
    "CSV_COLUMNS = [\"age\", \"workclass\", \"fnlwgt\", \"education\", \"education_num\", \"marital_status\", \"occupation\", \"relationship\", \"race\", \"gender\", \"capital_gain\", \"capital_loss\", \"hours_per_week\", \"native_country\", \"income_bracket\"]"
   ]
  },
  {
   "cell_type": "code",
   "execution_count": 54,
   "metadata": {},
   "outputs": [],
   "source": [
    "X_train = pd.read_csv(train_data_path, header=None, names=CSV_COLUMNS)\n",
    "X_test = pd.read_csv(test_data_path, header=None, names=CSV_COLUMNS)"
   ]
  },
  {
   "cell_type": "code",
   "execution_count": 55,
   "metadata": {},
   "outputs": [
    {
     "output_type": "execute_result",
     "data": {
      "text/plain": [
       "0    0\n",
       "1    0\n",
       "2    0\n",
       "3    0\n",
       "4    0\n",
       "Name: income_bracket, dtype: int64"
      ]
     },
     "metadata": {},
     "execution_count": 55
    }
   ],
   "source": [
    "income_train = X_train[\"income_bracket\"]\n",
    "income_test = X_test[\"income_bracket\"]\n",
    "\n",
    "X_train['income_bracket'] = (X_train['income_bracket'] == ' >50K').astype(int)\n",
    "X_test['income_bracket'] = (X_test['income_bracket'] == ' >50K').astype(int)\n",
    "\n",
    "Y_train = X_train[\"income_bracket\"]\n",
    "Y_test = X_test[\"income_bracket\"]\n",
    "\n",
    "X_train = X_train.drop('fnlwgt', axis=1)\n",
    "X_test = X_test.drop('fnlwgt', axis=1)\n",
    "\n",
    "X_train = X_train.drop('income_bracket', axis=1)\n",
    "X_test = X_test.drop('income_bracket', axis=1)\n",
    "\n",
    "Y_train.head()"
   ]
  },
  {
   "cell_type": "code",
   "execution_count": 56,
   "metadata": {},
   "outputs": [
    {
     "output_type": "stream",
     "name": "stdout",
     "text": [
      "[VocabularyListCategoricalColumn(key='workclass', vocabulary_list=(' State-gov', ' Self-emp-not-inc', ' Private', ' Federal-gov', ' Local-gov', ' ?', ' Self-emp-inc', ' Without-pay', ' Never-worked'), dtype=tf.string, default_value=-1, num_oov_buckets=0), VocabularyListCategoricalColumn(key='education', vocabulary_list=(' Bachelors', ' HS-grad', ' 11th', ' Masters', ' 9th', ' Some-college', ' Assoc-acdm', ' Assoc-voc', ' 7th-8th', ' Doctorate', ' Prof-school', ' 5th-6th', ' 10th', ' 1st-4th', ' Preschool', ' 12th'), dtype=tf.string, default_value=-1, num_oov_buckets=0), VocabularyListCategoricalColumn(key='marital_status', vocabulary_list=(' Never-married', ' Married-civ-spouse', ' Divorced', ' Married-spouse-absent', ' Separated', ' Married-AF-spouse', ' Widowed'), dtype=tf.string, default_value=-1, num_oov_buckets=0), VocabularyListCategoricalColumn(key='occupation', vocabulary_list=(' Adm-clerical', ' Exec-managerial', ' Handlers-cleaners', ' Prof-specialty', ' Other-service', ' Sales', ' Craft-repair', ' Transport-moving', ' Farming-fishing', ' Machine-op-inspct', ' Tech-support', ' ?', ' Protective-serv', ' Armed-Forces', ' Priv-house-serv'), dtype=tf.string, default_value=-1, num_oov_buckets=0), VocabularyListCategoricalColumn(key='relationship', vocabulary_list=(' Not-in-family', ' Husband', ' Wife', ' Own-child', ' Unmarried', ' Other-relative'), dtype=tf.string, default_value=-1, num_oov_buckets=0), VocabularyListCategoricalColumn(key='race', vocabulary_list=(' White', ' Black', ' Asian-Pac-Islander', ' Amer-Indian-Eskimo', ' Other'), dtype=tf.string, default_value=-1, num_oov_buckets=0), VocabularyListCategoricalColumn(key='gender', vocabulary_list=(' Male', ' Female'), dtype=tf.string, default_value=-1, num_oov_buckets=0), VocabularyListCategoricalColumn(key='native_country', vocabulary_list=(' United-States', ' Cuba', ' Jamaica', ' India', ' ?', ' Mexico', ' South', ' Puerto-Rico', ' Honduras', ' England', ' Canada', ' Germany', ' Iran', ' Philippines', ' Italy', ' Poland', ' Columbia', ' Cambodia', ' Thailand', ' Ecuador', ' Laos', ' Taiwan', ' Haiti', ' Portugal', ' Dominican-Republic', ' El-Salvador', ' France', ' Guatemala', ' China', ' Japan', ' Yugoslavia', ' Peru', ' Outlying-US(Guam-USVI-etc)', ' Scotland', ' Trinadad&Tobago', ' Greece', ' Nicaragua', ' Vietnam', ' Hong', ' Ireland', ' Hungary', ' Holand-Netherlands'), dtype=tf.string, default_value=-1, num_oov_buckets=0), NumericColumn(key='age', shape=(1,), default_value=None, dtype=tf.float32, normalizer_fn=None), NumericColumn(key='education_num', shape=(1,), default_value=None, dtype=tf.float32, normalizer_fn=None), NumericColumn(key='capital_gain', shape=(1,), default_value=None, dtype=tf.float32, normalizer_fn=None), NumericColumn(key='capital_loss', shape=(1,), default_value=None, dtype=tf.float32, normalizer_fn=None), NumericColumn(key='hours_per_week', shape=(1,), default_value=None, dtype=tf.float32, normalizer_fn=None)]\n"
     ]
    }
   ],
   "source": [
    "feature_columns = []\n",
    "categorical_columns = []\n",
    "numeric_columns = []\n",
    "for feature_name in CATEGORICAL_COLUMNS:\n",
    "    vocabulary = X_train[feature_name].unique()\n",
    "    col = tf.feature_column.categorical_column_with_vocabulary_list(feature_name, vocabulary)\n",
    "    categorical_columns.append(col)\n",
    "    feature_columns.append(col)\n",
    "\n",
    "for feature_name in NUMERIC_COLUMNS:\n",
    "    col = tf.feature_column.numeric_column(feature_name, dtype=tf.float32)\n",
    "    numeric_columns.append(col)\n",
    "    feature_columns.append(col)\n",
    "\n",
    "print(feature_columns)"
   ]
  },
  {
   "cell_type": "code",
   "execution_count": 57,
   "metadata": {},
   "outputs": [],
   "source": [
    "def make_input_function(data_df, label_df, num_epochs=10, shuffle=True, batch_size=32):\n",
    "    def input_function():\n",
    "        ds = tf.data.Dataset.from_tensor_slices((dict(data_df), label_df))\n",
    "        if shuffle:\n",
    "            ds = ds.shuffle(1000)\n",
    "\n",
    "        ds = ds.batch(batch_size).repeat(num_epochs)\n",
    "        return ds\n",
    "    return input_function\n"
   ]
  },
  {
   "cell_type": "code",
   "execution_count": 59,
   "metadata": {},
   "outputs": [],
   "source": [
    "train_input_function = make_input_function(X_train, Y_train)\n",
    "eval_input_function = make_input_function(X_test, Y_test, num_epochs = 1, shuffle=False)"
   ]
  },
  {
   "cell_type": "code",
   "execution_count": 60,
   "metadata": {},
   "outputs": [
    {
     "output_type": "stream",
     "name": "stdout",
     "text": [
      "INFO:tensorflow:Using default config.\n",
      "INFO:tensorflow:Using config: {'_model_dir': 'wide-deep-model.pkl', '_tf_random_seed': None, '_save_summary_steps': 100, '_save_checkpoints_steps': None, '_save_checkpoints_secs': 600, '_session_config': allow_soft_placement: true\n",
      "graph_options {\n",
      "  rewrite_options {\n",
      "    meta_optimizer_iterations: ONE\n",
      "  }\n",
      "}\n",
      ", '_keep_checkpoint_max': 5, '_keep_checkpoint_every_n_hours': 10000, '_log_step_count_steps': 100, '_train_distribute': None, '_device_fn': None, '_protocol': None, '_eval_distribute': None, '_experimental_distribute': None, '_experimental_max_worker_delay_secs': None, '_session_creation_timeout_secs': 7200, '_checkpoint_save_graph_def': True, '_service': None, '_cluster_spec': ClusterSpec({}), '_task_type': 'worker', '_task_id': 0, '_global_id_in_cluster': 0, '_master': '', '_evaluation_master': '', '_is_chief': True, '_num_ps_replicas': 0, '_num_worker_replicas': 1}\n"
     ]
    }
   ],
   "source": [
    "deep_columns = []\n",
    "for col in categorical_columns:\n",
    "    deep_columns.append(tf.feature_column.indicator_column(col))\n",
    "\n",
    "for col in numeric_columns:\n",
    "    deep_columns.append(col)\n",
    "\n",
    "hidden_units = [100, 75, 50, 25]\n",
    "\n",
    "wide_deep = tf.estimator.DNNLinearCombinedClassifier(  \n",
    "        model_dir = model_path,              \n",
    "        linear_feature_columns=feature_columns,\n",
    "        dnn_feature_columns=deep_columns,\n",
    "        dnn_hidden_units=hidden_units)\n"
   ]
  },
  {
   "cell_type": "code",
   "execution_count": 61,
   "metadata": {
    "tags": []
   },
   "outputs": [
    {
     "output_type": "stream",
     "name": "stdout",
     "text": [
      "INFO:tensorflow:Calling model_fn.\n",
      "INFO:tensorflow:Done calling model_fn.\n",
      "INFO:tensorflow:Create CheckpointSaverHook.\n",
      "INFO:tensorflow:Graph was finalized.\n",
      "INFO:tensorflow:Restoring parameters from wide-deep-model.pkl/model.ckpt-208952\n",
      "INFO:tensorflow:Running local_init_op.\n",
      "INFO:tensorflow:Done running local_init_op.\n",
      "INFO:tensorflow:Calling checkpoint listeners before saving checkpoint 208952...\n",
      "INFO:tensorflow:Saving checkpoints for 208952 into wide-deep-model.pkl/model.ckpt.\n",
      "INFO:tensorflow:Calling checkpoint listeners after saving checkpoint 208952...\n",
      "INFO:tensorflow:loss = 0.2863754, step = 208952\n",
      "INFO:tensorflow:global_step/sec: 159.465\n",
      "INFO:tensorflow:loss = 0.260288, step = 209052 (0.628 sec)\n",
      "INFO:tensorflow:global_step/sec: 284.73\n",
      "INFO:tensorflow:loss = 0.3113423, step = 209152 (0.352 sec)\n",
      "INFO:tensorflow:global_step/sec: 291.165\n",
      "INFO:tensorflow:loss = 0.39931726, step = 209252 (0.343 sec)\n",
      "INFO:tensorflow:global_step/sec: 294.086\n",
      "INFO:tensorflow:loss = 0.55965734, step = 209352 (0.340 sec)\n",
      "INFO:tensorflow:global_step/sec: 292.556\n",
      "INFO:tensorflow:loss = 0.26414216, step = 209452 (0.342 sec)\n",
      "INFO:tensorflow:global_step/sec: 292.748\n",
      "INFO:tensorflow:loss = 0.23669988, step = 209552 (0.341 sec)\n",
      "INFO:tensorflow:global_step/sec: 295.095\n",
      "INFO:tensorflow:loss = 0.45938396, step = 209652 (0.339 sec)\n",
      "INFO:tensorflow:global_step/sec: 294.81\n",
      "INFO:tensorflow:loss = 0.26762038, step = 209752 (0.339 sec)\n",
      "INFO:tensorflow:global_step/sec: 303.253\n",
      "INFO:tensorflow:loss = 0.39721304, step = 209852 (0.330 sec)\n",
      "INFO:tensorflow:global_step/sec: 301.936\n",
      "INFO:tensorflow:loss = 0.22686392, step = 209952 (0.332 sec)\n",
      "INFO:tensorflow:global_step/sec: 291.805\n",
      "INFO:tensorflow:loss = 0.3801504, step = 210052 (0.342 sec)\n",
      "INFO:tensorflow:global_step/sec: 292.448\n",
      "INFO:tensorflow:loss = 0.37784863, step = 210152 (0.342 sec)\n",
      "INFO:tensorflow:global_step/sec: 301.256\n",
      "INFO:tensorflow:loss = 0.20981199, step = 210252 (0.332 sec)\n",
      "INFO:tensorflow:global_step/sec: 295.777\n",
      "INFO:tensorflow:loss = 0.3112385, step = 210352 (0.338 sec)\n",
      "INFO:tensorflow:global_step/sec: 293.834\n",
      "INFO:tensorflow:loss = 0.3481332, step = 210452 (0.340 sec)\n",
      "INFO:tensorflow:global_step/sec: 303.037\n",
      "INFO:tensorflow:loss = 0.21894717, step = 210552 (0.330 sec)\n",
      "INFO:tensorflow:global_step/sec: 298.115\n",
      "INFO:tensorflow:loss = 0.22245543, step = 210652 (0.335 sec)\n",
      "INFO:tensorflow:global_step/sec: 296.988\n",
      "INFO:tensorflow:loss = 0.44791687, step = 210752 (0.336 sec)\n",
      "INFO:tensorflow:global_step/sec: 301.024\n",
      "INFO:tensorflow:loss = 0.41009462, step = 210852 (0.332 sec)\n",
      "INFO:tensorflow:global_step/sec: 302.236\n",
      "INFO:tensorflow:loss = 0.38984856, step = 210952 (0.331 sec)\n",
      "INFO:tensorflow:global_step/sec: 295.639\n",
      "INFO:tensorflow:loss = 0.34319466, step = 211052 (0.338 sec)\n",
      "INFO:tensorflow:global_step/sec: 292.349\n",
      "INFO:tensorflow:loss = 0.27236652, step = 211152 (0.343 sec)\n",
      "INFO:tensorflow:global_step/sec: 293.15\n",
      "INFO:tensorflow:loss = 0.308986, step = 211252 (0.341 sec)\n",
      "INFO:tensorflow:global_step/sec: 297.243\n",
      "INFO:tensorflow:loss = 0.36969623, step = 211352 (0.337 sec)\n",
      "INFO:tensorflow:global_step/sec: 296.081\n",
      "INFO:tensorflow:loss = 0.273251, step = 211452 (0.338 sec)\n",
      "INFO:tensorflow:global_step/sec: 295.072\n",
      "INFO:tensorflow:loss = 0.41854072, step = 211552 (0.338 sec)\n",
      "INFO:tensorflow:global_step/sec: 296.128\n",
      "INFO:tensorflow:loss = 0.33094412, step = 211652 (0.338 sec)\n",
      "INFO:tensorflow:global_step/sec: 294.037\n",
      "INFO:tensorflow:loss = 0.1253636, step = 211752 (0.341 sec)\n",
      "INFO:tensorflow:global_step/sec: 289.579\n",
      "INFO:tensorflow:loss = 0.18131113, step = 211852 (0.344 sec)\n",
      "INFO:tensorflow:global_step/sec: 295.367\n",
      "INFO:tensorflow:loss = 0.15591615, step = 211952 (0.339 sec)\n",
      "INFO:tensorflow:global_step/sec: 287.716\n",
      "INFO:tensorflow:loss = 0.3526175, step = 212052 (0.347 sec)\n",
      "INFO:tensorflow:global_step/sec: 290.883\n",
      "INFO:tensorflow:loss = 0.37375867, step = 212152 (0.344 sec)\n",
      "INFO:tensorflow:global_step/sec: 290.567\n",
      "INFO:tensorflow:loss = 0.2194382, step = 212252 (0.345 sec)\n",
      "INFO:tensorflow:global_step/sec: 287.756\n",
      "INFO:tensorflow:loss = 0.37951565, step = 212352 (0.347 sec)\n",
      "INFO:tensorflow:global_step/sec: 293.493\n",
      "INFO:tensorflow:loss = 0.26921362, step = 212452 (0.341 sec)\n",
      "INFO:tensorflow:global_step/sec: 291.074\n",
      "INFO:tensorflow:loss = 0.210969, step = 212552 (0.343 sec)\n",
      "INFO:tensorflow:global_step/sec: 291.352\n",
      "INFO:tensorflow:loss = 0.42651814, step = 212652 (0.343 sec)\n",
      "INFO:tensorflow:global_step/sec: 298.334\n",
      "INFO:tensorflow:loss = 0.26337242, step = 212752 (0.335 sec)\n",
      "INFO:tensorflow:global_step/sec: 296.117\n",
      "INFO:tensorflow:loss = 0.23465359, step = 212852 (0.338 sec)\n",
      "INFO:tensorflow:global_step/sec: 289.344\n",
      "INFO:tensorflow:loss = 0.23443858, step = 212952 (0.346 sec)\n",
      "INFO:tensorflow:global_step/sec: 288.019\n",
      "INFO:tensorflow:loss = 0.5097989, step = 213052 (0.348 sec)\n",
      "INFO:tensorflow:global_step/sec: 291.257\n",
      "INFO:tensorflow:loss = 0.2909434, step = 213152 (0.343 sec)\n",
      "INFO:tensorflow:global_step/sec: 293.526\n",
      "INFO:tensorflow:loss = 0.43011373, step = 213252 (0.341 sec)\n",
      "INFO:tensorflow:global_step/sec: 284.232\n",
      "INFO:tensorflow:loss = 0.21456349, step = 213352 (0.352 sec)\n",
      "INFO:tensorflow:global_step/sec: 294.915\n",
      "INFO:tensorflow:loss = 0.21552107, step = 213452 (0.339 sec)\n",
      "INFO:tensorflow:global_step/sec: 292.095\n",
      "INFO:tensorflow:loss = 0.20657982, step = 213552 (0.342 sec)\n",
      "INFO:tensorflow:global_step/sec: 292.399\n",
      "INFO:tensorflow:loss = 0.2561947, step = 213652 (0.342 sec)\n",
      "INFO:tensorflow:global_step/sec: 292.25\n",
      "INFO:tensorflow:loss = 0.25019825, step = 213752 (0.342 sec)\n",
      "INFO:tensorflow:global_step/sec: 286.607\n",
      "INFO:tensorflow:loss = 0.25819448, step = 213852 (0.349 sec)\n",
      "INFO:tensorflow:global_step/sec: 285.547\n",
      "INFO:tensorflow:loss = 0.30267608, step = 213952 (0.350 sec)\n",
      "INFO:tensorflow:global_step/sec: 290.876\n",
      "INFO:tensorflow:loss = 0.3721305, step = 214052 (0.344 sec)\n",
      "INFO:tensorflow:global_step/sec: 283.354\n",
      "INFO:tensorflow:loss = 0.4304143, step = 214152 (0.353 sec)\n",
      "INFO:tensorflow:global_step/sec: 289.073\n",
      "INFO:tensorflow:loss = 0.40138447, step = 214252 (0.346 sec)\n",
      "INFO:tensorflow:global_step/sec: 291.336\n",
      "INFO:tensorflow:loss = 0.24381302, step = 214352 (0.343 sec)\n",
      "INFO:tensorflow:global_step/sec: 288.412\n",
      "INFO:tensorflow:loss = 0.3416142, step = 214452 (0.347 sec)\n",
      "INFO:tensorflow:global_step/sec: 294.321\n",
      "INFO:tensorflow:loss = 0.28254932, step = 214552 (0.339 sec)\n",
      "INFO:tensorflow:global_step/sec: 285.988\n",
      "INFO:tensorflow:loss = 0.36499548, step = 214652 (0.350 sec)\n",
      "INFO:tensorflow:global_step/sec: 289.042\n",
      "INFO:tensorflow:loss = 0.30611578, step = 214752 (0.346 sec)\n",
      "INFO:tensorflow:global_step/sec: 294.09\n",
      "INFO:tensorflow:loss = 0.37307513, step = 214852 (0.340 sec)\n",
      "INFO:tensorflow:global_step/sec: 295.976\n",
      "INFO:tensorflow:loss = 0.5207547, step = 214952 (0.338 sec)\n",
      "INFO:tensorflow:global_step/sec: 290.176\n",
      "INFO:tensorflow:loss = 0.46701068, step = 215052 (0.344 sec)\n",
      "INFO:tensorflow:global_step/sec: 291.191\n",
      "INFO:tensorflow:loss = 0.32043734, step = 215152 (0.344 sec)\n",
      "INFO:tensorflow:global_step/sec: 285.711\n",
      "INFO:tensorflow:loss = 0.34178126, step = 215252 (0.350 sec)\n",
      "INFO:tensorflow:global_step/sec: 290.312\n",
      "INFO:tensorflow:loss = 0.36913413, step = 215352 (0.344 sec)\n",
      "INFO:tensorflow:global_step/sec: 293.166\n",
      "INFO:tensorflow:loss = 0.30435115, step = 215452 (0.341 sec)\n",
      "INFO:tensorflow:global_step/sec: 286.254\n",
      "INFO:tensorflow:loss = 0.31066024, step = 215552 (0.350 sec)\n",
      "INFO:tensorflow:global_step/sec: 295.674\n",
      "INFO:tensorflow:loss = 0.37702832, step = 215652 (0.338 sec)\n",
      "INFO:tensorflow:global_step/sec: 294.956\n",
      "INFO:tensorflow:loss = 0.4698613, step = 215752 (0.340 sec)\n",
      "INFO:tensorflow:global_step/sec: 281.102\n",
      "INFO:tensorflow:loss = 0.3541609, step = 215852 (0.355 sec)\n",
      "INFO:tensorflow:global_step/sec: 289.976\n",
      "INFO:tensorflow:loss = 0.3952542, step = 215952 (0.346 sec)\n",
      "INFO:tensorflow:global_step/sec: 286.463\n",
      "INFO:tensorflow:loss = 0.56159896, step = 216052 (0.349 sec)\n",
      "INFO:tensorflow:global_step/sec: 287.162\n",
      "INFO:tensorflow:loss = 0.41085818, step = 216152 (0.348 sec)\n",
      "INFO:tensorflow:global_step/sec: 293.558\n",
      "INFO:tensorflow:loss = 0.33059245, step = 216252 (0.341 sec)\n",
      "INFO:tensorflow:global_step/sec: 293.898\n",
      "INFO:tensorflow:loss = 0.350528, step = 216352 (0.340 sec)\n",
      "INFO:tensorflow:global_step/sec: 285.219\n",
      "INFO:tensorflow:loss = 0.22881086, step = 216452 (0.350 sec)\n",
      "INFO:tensorflow:global_step/sec: 288.349\n",
      "INFO:tensorflow:loss = 0.27703232, step = 216552 (0.347 sec)\n",
      "INFO:tensorflow:global_step/sec: 293.826\n",
      "INFO:tensorflow:loss = 0.24123384, step = 216652 (0.340 sec)\n",
      "INFO:tensorflow:global_step/sec: 286.166\n",
      "INFO:tensorflow:loss = 0.41675347, step = 216752 (0.350 sec)\n",
      "INFO:tensorflow:global_step/sec: 288.571\n",
      "INFO:tensorflow:loss = 0.2695283, step = 216852 (0.346 sec)\n",
      "INFO:tensorflow:global_step/sec: 290.796\n",
      "INFO:tensorflow:loss = 0.25346515, step = 216952 (0.344 sec)\n",
      "INFO:tensorflow:global_step/sec: 287.93\n",
      "INFO:tensorflow:loss = 0.26643735, step = 217052 (0.347 sec)\n",
      "INFO:tensorflow:global_step/sec: 287.538\n",
      "INFO:tensorflow:loss = 0.19873752, step = 217152 (0.348 sec)\n",
      "INFO:tensorflow:global_step/sec: 291.183\n",
      "INFO:tensorflow:loss = 0.30704606, step = 217252 (0.343 sec)\n",
      "INFO:tensorflow:global_step/sec: 286.319\n",
      "INFO:tensorflow:loss = 0.40287212, step = 217352 (0.349 sec)\n",
      "INFO:tensorflow:global_step/sec: 289.123\n",
      "INFO:tensorflow:loss = 0.42085427, step = 217452 (0.346 sec)\n",
      "INFO:tensorflow:global_step/sec: 290.867\n",
      "INFO:tensorflow:loss = 0.44155025, step = 217552 (0.343 sec)\n",
      "INFO:tensorflow:global_step/sec: 288.05\n",
      "INFO:tensorflow:loss = 0.17380944, step = 217652 (0.347 sec)\n",
      "INFO:tensorflow:global_step/sec: 289.57\n",
      "INFO:tensorflow:loss = 0.21841913, step = 217752 (0.345 sec)\n",
      "INFO:tensorflow:global_step/sec: 288.515\n",
      "INFO:tensorflow:loss = 0.29693395, step = 217852 (0.347 sec)\n",
      "INFO:tensorflow:global_step/sec: 289.341\n",
      "INFO:tensorflow:loss = 0.27105194, step = 217952 (0.345 sec)\n",
      "INFO:tensorflow:global_step/sec: 292.694\n",
      "INFO:tensorflow:loss = 0.2756807, step = 218052 (0.342 sec)\n",
      "INFO:tensorflow:global_step/sec: 282.868\n",
      "INFO:tensorflow:loss = 0.33103454, step = 218152 (0.353 sec)\n",
      "INFO:tensorflow:global_step/sec: 291.23\n",
      "INFO:tensorflow:loss = 0.21052809, step = 218252 (0.343 sec)\n",
      "INFO:tensorflow:global_step/sec: 293.37\n",
      "INFO:tensorflow:loss = 0.2941398, step = 218352 (0.341 sec)\n",
      "INFO:tensorflow:global_step/sec: 290.364\n",
      "INFO:tensorflow:loss = 0.4608338, step = 218452 (0.344 sec)\n",
      "INFO:tensorflow:global_step/sec: 291.208\n",
      "INFO:tensorflow:loss = 0.25602883, step = 218552 (0.343 sec)\n",
      "INFO:tensorflow:global_step/sec: 291.287\n",
      "INFO:tensorflow:loss = 0.15858907, step = 218652 (0.343 sec)\n",
      "INFO:tensorflow:global_step/sec: 284.892\n",
      "INFO:tensorflow:loss = 0.19459048, step = 218752 (0.351 sec)\n",
      "INFO:tensorflow:global_step/sec: 290.317\n",
      "INFO:tensorflow:loss = 0.25271207, step = 218852 (0.345 sec)\n",
      "INFO:tensorflow:global_step/sec: 293.05\n",
      "INFO:tensorflow:loss = 0.24355023, step = 218952 (0.342 sec)\n",
      "INFO:tensorflow:global_step/sec: 281.38\n",
      "INFO:tensorflow:loss = 0.3182789, step = 219052 (0.355 sec)\n",
      "INFO:tensorflow:Calling checkpoint listeners before saving checkpoint 219132...\n",
      "INFO:tensorflow:Saving checkpoints for 219132 into wide-deep-model.pkl/model.ckpt.\n",
      "INFO:tensorflow:Calling checkpoint listeners after saving checkpoint 219132...\n",
      "INFO:tensorflow:Loss for final step: 0.36568445.\n"
     ]
    },
    {
     "output_type": "execute_result",
     "data": {
      "text/plain": [
       "<tensorflow_estimator.python.estimator.canned.dnn_linear_combined.DNNLinearCombinedClassifierV2 at 0x7f1c2beafa30>"
      ]
     },
     "metadata": {},
     "execution_count": 61
    }
   ],
   "source": [
    "input_fn = make_input_function(X_train, Y_train)\n",
    "wide_deep.train(input_fn=input_fn)"
   ]
  },
  {
   "cell_type": "code",
   "execution_count": 62,
   "metadata": {},
   "outputs": [
    {
     "output_type": "stream",
     "name": "stdout",
     "text": [
      "INFO:tensorflow:Calling model_fn.\n",
      "INFO:tensorflow:Done calling model_fn.\n",
      "INFO:tensorflow:Starting evaluation at 2021-01-05T03:17:19Z\n",
      "INFO:tensorflow:Graph was finalized.\n",
      "INFO:tensorflow:Restoring parameters from wide-deep-model.pkl/model.ckpt-219132\n",
      "INFO:tensorflow:Running local_init_op.\n",
      "INFO:tensorflow:Done running local_init_op.\n",
      "INFO:tensorflow:Inference Time : 2.45656s\n",
      "INFO:tensorflow:Finished evaluation at 2021-01-05-03:17:21\n",
      "INFO:tensorflow:Saving dict for global step 219132: accuracy = 0.8559405, accuracy_baseline = 0.7637916, auc = 0.91029245, auc_precision_recall = 0.7776968, average_loss = 0.3114694, global_step = 219132, label/mean = 0.23620838, loss = 0.31137538, precision = 0.730344, prediction/mean = 0.2421283, recall = 0.61846554\n",
      "INFO:tensorflow:Saving 'checkpoint_path' summary for global step 219132: wide-deep-model.pkl/model.ckpt-219132\n"
     ]
    }
   ],
   "source": [
    "eval_fn = make_input_function(X_test, Y_test, num_epochs=1, shuffle= False)\n",
    "result = wide_deep.evaluate(input_fn = eval_fn)"
   ]
  },
  {
   "cell_type": "code",
   "execution_count": 63,
   "metadata": {},
   "outputs": [
    {
     "output_type": "stream",
     "name": "stdout",
     "text": [
      "Accuracy: 0.856\n\n"
     ]
    }
   ],
   "source": [
    "print(\"Accuracy: {accuracy:0.3f}\\n\".format(**result))"
   ]
  },
  {
   "cell_type": "code",
   "execution_count": 65,
   "metadata": {},
   "outputs": [],
   "source": [
    "def prediction_input_function(features, batch_size = 256):\n",
    "    return tf.data.Dataset.from_tensor_slices(dict(features)).batch(batch_size)\n"
   ]
  },
  {
   "cell_type": "code",
   "execution_count": 68,
   "metadata": {},
   "outputs": [
    {
     "output_type": "stream",
     "name": "stdout",
     "text": [
      "INFO:tensorflow:Calling model_fn.\n",
      "INFO:tensorflow:Done calling model_fn.\n",
      "INFO:tensorflow:Graph was finalized.\n",
      "INFO:tensorflow:Restoring parameters from wide-deep-model.pkl/model.ckpt-219132\n",
      "INFO:tensorflow:Running local_init_op.\n",
      "INFO:tensorflow:Done running local_init_op.\n",
      "Prediction is \"<=50K\" (97.3%), Real value: \" <=50K\"\"\n"
     ]
    }
   ],
   "source": [
    "income_type = ['<=50K', '>50K']\n",
    "\n",
    "i = 5312\n",
    "newX = X_test.iloc[i:i+1]\n",
    "newY = income_test[i]\n",
    "predictions = wide_deep.predict(input_fn = lambda: prediction_input_function(newX))\n",
    "\n",
    "for pred_dict in predictions: \n",
    "    class_id = pred_dict['class_ids'][0]\n",
    "    probability = pred_dict['probabilities'][class_id]   \n",
    "        \n",
    "    print('Prediction is \"{}\" ({:.1f}%), Real value: \"{}\"\"'.format(income_type[class_id], 100 * probability, newY))\n"
   ]
  },
  {
   "cell_type": "code",
   "execution_count": 70,
   "metadata": {},
   "outputs": [
    {
     "output_type": "stream",
     "name": "stdout",
     "text": [
      "INFO:tensorflow:Calling model_fn.\n",
      "INFO:tensorflow:Done calling model_fn.\n",
      "WARNING:tensorflow:From /opt/conda/lib/python3.8/site-packages/tensorflow/python/saved_model/signature_def_utils_impl.py:145: build_tensor_info (from tensorflow.python.saved_model.utils_impl) is deprecated and will be removed in a future version.\n",
      "Instructions for updating:\n",
      "This function will only be available through the v1 compatibility library as tf.compat.v1.saved_model.utils.build_tensor_info or tf.compat.v1.saved_model.build_tensor_info.\n",
      "INFO:tensorflow:Signatures INCLUDED in export for Classify: ['serving_default', 'classification']\n",
      "INFO:tensorflow:Signatures INCLUDED in export for Regress: ['regression']\n",
      "INFO:tensorflow:Signatures INCLUDED in export for Predict: ['predict']\n",
      "INFO:tensorflow:Signatures INCLUDED in export for Train: None\n",
      "INFO:tensorflow:Signatures INCLUDED in export for Eval: None\n",
      "INFO:tensorflow:Restoring parameters from wide-deep-model.pkl/model.ckpt-219132\n",
      "INFO:tensorflow:Assets added to graph.\n",
      "INFO:tensorflow:No assets to write.\n",
      "INFO:tensorflow:SavedModel written to: export/temp-1609816788/saved_model.pb\n",
      "export dir: b'export/1609816788'\n"
     ]
    }
   ],
   "source": [
    "feature_spec = tf.feature_column.make_parse_example_spec(deep_columns)\n",
    "\n",
    "# Build receiver function, and export.\n",
    "serving_input_receiver_fn = tf.estimator.export.build_parsing_serving_input_receiver_fn(feature_spec)\n",
    "export_dir = wide_deep.export_saved_model('export', serving_input_receiver_fn)\n",
    "print('export dir:', export_dir)"
   ]
  },
  {
   "cell_type": "code",
   "execution_count": 71,
   "metadata": {},
   "outputs": [],
   "source": [
    "imported = tf.saved_model.load(export_dir)"
   ]
  },
  {
   "cell_type": "code",
   "execution_count": 72,
   "metadata": {},
   "outputs": [],
   "source": [
    "def predict(i):\n",
    "    inputs = X_test[i:i+1]\n",
    "    example = tf.train.Example()\n",
    "    for col in inputs:\n",
    "        # if col in CATEGORICAL_COLUMNS:  \n",
    "        #     cat_value = np.where(categorial_map[col] ==  inputs[col].tolist()[0])[0]\n",
    "        #     example.features.feature[col].float_list.value.extend(cat_value)\n",
    "        if col in CATEGORICAL_COLUMNS:  \n",
    "            cat_value = inputs[col].tolist()[0][0].encode('utf8')\n",
    "            example.features.feature[col].bytes_list.value.extend([cat_value])\n",
    "        if col in NUMERIC_COLUMNS:\n",
    "            example.features.feature[col].float_list.value.extend(inputs[col])\n",
    "    return imported.signatures[\"predict\"](examples=tf.constant([example.SerializeToString()]))\n",
    " "
   ]
  },
  {
   "cell_type": "code",
   "execution_count": 73,
   "metadata": {},
   "outputs": [
    {
     "output_type": "stream",
     "name": "stdout",
     "text": [
      "Prediction is \">50K\" (93.1%)\n"
     ]
    }
   ],
   "source": [
    "predictions = predict(334)\n",
    " \n",
    "class_ids = predictions['class_ids'].numpy()[0][0]\n",
    "probability = predictions['probabilities'].numpy()[0][class_ids]\n",
    "print('Prediction is \"{}\" ({:.1f}%)'.format(income_type[class_ids], 100 * probability))\n"
   ]
  }
 ]
}